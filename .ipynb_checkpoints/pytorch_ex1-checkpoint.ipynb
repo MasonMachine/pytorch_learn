{
 "cells": [
  {
   "cell_type": "code",
   "execution_count": 1,
   "id": "90bb232f",
   "metadata": {},
   "outputs": [],
   "source": [
    "import torch"
   ]
  },
  {
   "cell_type": "markdown",
   "id": "cc1c4e16",
   "metadata": {},
   "source": [
    "# 创建Tensor"
   ]
  },
  {
   "cell_type": "markdown",
   "id": "c39a93d7",
   "metadata": {},
   "source": [
    "参考链接：https://blog.csdn.net/CltCj/article/details/120060543?ops_request_misc=%257B%2522request%255Fid%2522%253A%2522168190136416782427496302%2522%252C%2522scm%2522%253A%252220140713.130102334..%2522%257D&request_id=168190136416782427496302&biz_id=0&utm_medium=distribute.pc_search_result.none-task-blog-2~all~top_positive~default-1-120060543-null-null.142^v85^koosearch_v1,239^v2^insert_chatgpt&utm_term=pytorch&spm=1018.2226.3001.4187"
   ]
  },
  {
   "cell_type": "markdown",
   "id": "da380090",
   "metadata": {},
   "source": [
    "torch.FloatTensor生成数据类型为浮点型的Tensor,参数可以是列表，也可以是一个维度"
   ]
  },
  {
   "cell_type": "code",
   "execution_count": null,
   "id": "c4e5ba5d",
   "metadata": {},
   "outputs": [],
   "source": [
    "a = torch.FloatTensor(2,3)\n",
    "b = torch.FloatTensor([2,3,4,5])\n",
    "a,b"
   ]
  },
  {
   "cell_type": "markdown",
   "id": "0904b9ef",
   "metadata": {},
   "source": [
    "torch.IntTensor用于生成数据类型为整型的Tensor,传递给传递给torch.IntTensor的参数可以是列表，也可以是一个维度值。"
   ]
  },
  {
   "cell_type": "code",
   "execution_count": null,
   "id": "78a3d9bf",
   "metadata": {},
   "outputs": [],
   "source": [
    "a = torch.IntTensor(2,3)\n",
    "b = torch.IntTensor([6,7,8,9])\n",
    "a,b"
   ]
  },
  {
   "cell_type": "markdown",
   "id": "8432184b",
   "metadata": {},
   "source": [
    "torch.rand用于生成一个随机数tensor"
   ]
  },
  {
   "cell_type": "code",
   "execution_count": null,
   "id": "0b81ae53",
   "metadata": {},
   "outputs": [],
   "source": [
    "a = torch.rand(2,3)\n",
    "a "
   ]
  },
  {
   "cell_type": "markdown",
   "id": "7ae4e7d2",
   "metadata": {},
   "source": [
    "torch.randn用于生成数据类型为浮点数且维度指定的随机Tensor，随机生成的浮点数的取值满足均值为0，方差为1的正态分布"
   ]
  },
  {
   "cell_type": "code",
   "execution_count": null,
   "id": "e1aa2f7e",
   "metadata": {},
   "outputs": [],
   "source": [
    "a = torch.randn(2,3)\n",
    "a "
   ]
  },
  {
   "cell_type": "markdown",
   "id": "78ca9f2c",
   "metadata": {},
   "source": [
    "torch.range用于生成数据类型为浮点型且起始范围和结束范围的Tensor,所以传递给torch.range的参数有三个，分别为起始值，结束值，步长，其中步长用于指定从起始值到结束值得每步的数据间隔。"
   ]
  },
  {
   "cell_type": "code",
   "execution_count": null,
   "id": "07678683",
   "metadata": {},
   "outputs": [],
   "source": [
    "\n",
    "a = torch.range(1,20,2)\n",
    "a"
   ]
  },
  {
   "cell_type": "markdown",
   "id": "65491bbd",
   "metadata": {},
   "source": [
    "# Tensor运算"
   ]
  },
  {
   "cell_type": "markdown",
   "id": "66aff86e",
   "metadata": {},
   "source": [
    "abs将参数传递到torch.abs后返回输入参数的绝对值作为输出，输入参数必须是一个Tensor数据类型的变量"
   ]
  },
  {
   "cell_type": "code",
   "execution_count": 3,
   "id": "fc01a6ab",
   "metadata": {},
   "outputs": [
    {
     "data": {
      "text/plain": [
       "tensor([[0.0277, 0.4401, 1.8545],\n",
       "        [0.6162, 1.1254, 0.2220]])"
      ]
     },
     "execution_count": 3,
     "metadata": {},
     "output_type": "execute_result"
    }
   ],
   "source": [
    "a = torch.randn(2,3)\n",
    "b = torch.abs(a)\n",
    "b"
   ]
  },
  {
   "cell_type": "markdown",
   "id": "c6f24647",
   "metadata": {},
   "source": [
    "add将参数传递到torch.add后返回输入参数的求和结果作为输出，输入参数既可以全部是Tensor数据类型的变量，也可以一个是Tensor数据类型的变量，另一个是标量"
   ]
  },
  {
   "cell_type": "code",
   "execution_count": 4,
   "id": "9cf9f416",
   "metadata": {},
   "outputs": [
    {
     "data": {
      "text/plain": [
       "tensor([[0.0553, 0.0000, 3.7090],\n",
       "        [1.2323, 0.0000, 0.4441]])"
      ]
     },
     "execution_count": 4,
     "metadata": {},
     "output_type": "execute_result"
    }
   ],
   "source": [
    "c = torch.add(a,b)\n",
    "c"
   ]
  },
  {
   "cell_type": "code",
   "execution_count": null,
   "id": "338ff6b2",
   "metadata": {},
   "outputs": [],
   "source": [
    "e = torch.add(d,10)\n",
    "e"
   ]
  },
  {
   "cell_type": "markdown",
   "id": "6ffbf024",
   "metadata": {},
   "source": [
    "torch.clamp是对输入参数按照自定义的范围进行裁剪，最后将参数裁剪的结果作为输出，所以输入参数一共有三个，分别是需要进行裁剪的Tensor数据类型的变量、裁剪的上上边界和裁剪的下边界，具体的裁剪过程是：使用变量中的每个元素分别和裁剪的上边界及裁剪的下边界的值进行比较，如果元素的值小于裁剪的下边界的值，该元素被重写成裁剪的下边界的值；同理，如果元素的值大于裁剪的上边界的值，该元素就被重写成裁剪的上边界的值。"
   ]
  },
  {
   "cell_type": "code",
   "execution_count": 5,
   "id": "d2a663d1",
   "metadata": {},
   "outputs": [
    {
     "data": {
      "text/plain": [
       "tensor([[-0.7101,  0.3636, -1.3875],\n",
       "        [ 0.1313,  1.1783,  1.7988]])"
      ]
     },
     "execution_count": 5,
     "metadata": {},
     "output_type": "execute_result"
    }
   ],
   "source": [
    "a = torch.randn(2,3)\n",
    "a"
   ]
  },
  {
   "cell_type": "code",
   "execution_count": 6,
   "id": "d502a6c0",
   "metadata": {},
   "outputs": [
    {
     "data": {
      "text/plain": [
       "tensor([[-0.1000,  0.1000, -0.1000],\n",
       "        [ 0.1000,  0.1000,  0.1000]])"
      ]
     },
     "execution_count": 6,
     "metadata": {},
     "output_type": "execute_result"
    }
   ],
   "source": [
    "b = torch.clamp(a,-0.1,0.1)\n",
    "b"
   ]
  },
  {
   "cell_type": "markdown",
   "id": "f2584b38",
   "metadata": {},
   "source": [
    "torch.div是将参数传递到torch.div后返回输入参数的求商结果作为输出，同样，参与运算的参数可以全部是Tensor数据类型的变量，也可以是Tensor数据类型的变量和标量的组合。"
   ]
  },
  {
   "cell_type": "code",
   "execution_count": 9,
   "id": "7daab1d8",
   "metadata": {},
   "outputs": [
    {
     "name": "stdout",
     "output_type": "stream",
     "text": [
      "a= tensor([[ 0.4968,  1.4927,  1.0485],\n",
      "        [ 0.7948, -1.0124,  0.3874]])\n",
      "b= tensor([[ 0.4536, -0.6836, -1.3328],\n",
      "        [-1.0853,  0.8443,  0.9291]])\n",
      "c= tensor([[ 1.0953, -2.1836, -0.7867],\n",
      "        [-0.7323, -1.1991,  0.4170]])\n"
     ]
    }
   ],
   "source": [
    "a = torch.randn(2,3)\n",
    "print('a=',a)\n",
    "b = torch.randn(2,3)\n",
    "print('b=',b)\n",
    "c = torch.div(a,b)\n",
    "print('c=',c)"
   ]
  },
  {
   "cell_type": "markdown",
   "id": "c07968b2",
   "metadata": {},
   "source": [
    "torch.pow将参数传递到torch.pow后返回输入参数的求幂结果作为输出，参与运算的参数可以全部是Tensor数据类型的变量，也可以是Tensor数据类型的变量和标量的组合。"
   ]
  },
  {
   "cell_type": "code",
   "execution_count": 10,
   "id": "24356574",
   "metadata": {},
   "outputs": [
    {
     "name": "stdout",
     "output_type": "stream",
     "text": [
      "a= tensor([[ 1.3761,  0.7744, -1.0337],\n",
      "        [ 2.3221, -0.3241, -0.9173]])\n",
      "b= tensor([[1.8936, 0.5998, 1.0686],\n",
      "        [5.3922, 0.1050, 0.8414]])\n"
     ]
    }
   ],
   "source": [
    "a = torch.randn(2,3)\n",
    "print('a=',a)\n",
    "b = torch.pow(a,2)\n",
    "print('b=',b)"
   ]
  },
  {
   "cell_type": "markdown",
   "id": "310748c5",
   "metadata": {},
   "source": [
    "<mark>torch.mm(矩阵相乘)：将参数传递到torch.mm后返回输入参数的求积结果作为输出，不过这个求积的方式和之前的torch.mul运算方式不太一样，torch.mm运用矩阵之间的乘法规则进行计算，所以被传入的参数会被当作矩阵进行处理，参数的维度自然也要满足矩阵乘法的前提条件，即前一个矩阵的行数必须和后一个矩阵列数相等</mark>"
   ]
  },
  {
   "cell_type": "code",
   "execution_count": null,
   "id": "6cb47a33",
   "metadata": {},
   "outputs": [],
   "source": []
  }
 ],
 "metadata": {
  "kernelspec": {
   "display_name": "pytorch",
   "language": "python",
   "name": "pytorch"
  },
  "language_info": {
   "codemirror_mode": {
    "name": "ipython",
    "version": 3
   },
   "file_extension": ".py",
   "mimetype": "text/x-python",
   "name": "python",
   "nbconvert_exporter": "python",
   "pygments_lexer": "ipython3",
   "version": "3.9.6"
  }
 },
 "nbformat": 4,
 "nbformat_minor": 5
}
